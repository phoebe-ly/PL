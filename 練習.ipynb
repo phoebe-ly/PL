{
 "cells": [
  {
   "cell_type": "code",
   "execution_count": 21,
   "id": "538b5365",
   "metadata": {},
   "outputs": [
    {
     "name": "stdout",
     "output_type": "stream",
     "text": [
      "['食物', '飲料']\n",
      "[['雞排', '火鍋', '漢堡', '薯條'], ['珍珠奶茶', '檸檬紅茶', '可樂', '果汁']]\n",
      "火鍋\n",
      "{'食物': ['雞排', '火鍋', '漢堡', '薯條'], '飲料': ['珍珠奶茶', '蘋果汁', '百香雙響炮', '鴛鴦奶茶', '咖啡', '可樂', '雪碧']}\n"
     ]
    }
   ],
   "source": [
    "d={\"食物\":[\"雞排\",\"火鍋\",\"漢堡\",\"薯條\"],\n",
    "   \"飲料\":[\"珍珠奶茶\",\"檸檬紅茶\",\"可樂\",\"果汁\"]}\n",
    "\n",
    "b=list(d.keys())\n",
    "print(b)\n",
    "a=list(d.values())\n",
    "print(a)\n",
    "\n",
    "print(d[\"食物\"][1])\n",
    "\n",
    "d[\"飲料\"]=[\"珍珠奶茶\",\"蘋果汁\",\"百香雙響炮\",\"鴛鴦奶茶\",\"咖啡\",\"可樂\",\"雪碧\"]\n",
    "print(d)\n"
   ]
  },
  {
   "cell_type": "code",
   "execution_count": null,
   "id": "4687dc08",
   "metadata": {},
   "outputs": [],
   "source": []
  }
 ],
 "metadata": {
  "kernelspec": {
   "display_name": "Python 3 (ipykernel)",
   "language": "python",
   "name": "python3"
  },
  "language_info": {
   "codemirror_mode": {
    "name": "ipython",
    "version": 3
   },
   "file_extension": ".py",
   "mimetype": "text/x-python",
   "name": "python",
   "nbconvert_exporter": "python",
   "pygments_lexer": "ipython3",
   "version": "3.9.12"
  }
 },
 "nbformat": 4,
 "nbformat_minor": 5
}
