{
 "cells": [
  {
   "cell_type": "code",
   "execution_count": 1,
   "id": "f9b5a09e",
   "metadata": {},
   "outputs": [],
   "source": [
    "import json"
   ]
  },
  {
   "cell_type": "code",
   "execution_count": 2,
   "id": "ac9423bf",
   "metadata": {},
   "outputs": [
    {
     "data": {
      "text/plain": [
       "dict"
      ]
     },
     "execution_count": 2,
     "metadata": {},
     "output_type": "execute_result"
    }
   ],
   "source": [
    "# 拉入JSON檔\n",
    "population = open('jsoncrack.json',encoding=\"utf8\")\n",
    "Data = json.load(population)\n",
    "type(Data)"
   ]
  },
  {
   "cell_type": "code",
   "execution_count": 3,
   "id": "e8afbc5f",
   "metadata": {},
   "outputs": [
    {
     "data": {
      "text/plain": [
       "dict_items([('雙北各區', {'新北各鄉鎮市區人口密度': [{'statistic_yyy': '106', 'site_id': '新北市板橋區', 'people_total': '551480', 'area': '23.1373', 'population_density': '23835'}, {'statistic_yyy': '106', 'site_id': '新北市三重區', 'people_total': '387484', 'area': '16.317', 'population_density': '23747'}, {'statistic_yyy': '106', 'site_id': '新北市中和區', 'people_total': '413590', 'area': '20.144', 'population_density': '20532'}, {'statistic_yyy': '106', 'site_id': '新北市永和區', 'people_total': '222585', 'area': '5.7138', 'population_density': '38956'}, {'statistic_yyy': '106', 'site_id': '新北市新莊區', 'people_total': '416524', 'area': '19.7383', 'population_density': '21102'}, {'statistic_yyy': '106', 'site_id': '新北市新店區', 'people_total': '302089', 'area': '120.2255', 'population_density': '2513'}, {'statistic_yyy': '106', 'site_id': '新北市樹林區', 'people_total': '184149', 'area': '33.1288', 'population_density': '5559'}, {'statistic_yyy': '106', 'site_id': '新北市鶯歌區', 'people_total': '86593', 'area': '21.1248', 'population_density': '4099'}, {'statistic_yyy': '106', 'site_id': '新北市三峽區', 'people_total': '114926', 'area': '191.4508', 'population_density': '600'}, {'statistic_yyy': '106', 'site_id': '新北市淡水區', 'people_total': '169597', 'area': '70.6565', 'population_density': '2400'}, {'statistic_yyy': '106', 'site_id': '新北市汐止區', 'people_total': '199321', 'area': '71.2354', 'population_density': '2798'}, {'statistic_yyy': '106', 'site_id': '新北市瑞芳區', 'people_total': '40353', 'area': '70.7336', 'population_density': '570'}, {'statistic_yyy': '106', 'site_id': '新北市土城區', 'people_total': '238067', 'area': '29.5578', 'population_density': '8054'}, {'statistic_yyy': '106', 'site_id': '新北市蘆洲區', 'people_total': '201309', 'area': '7.4351', 'population_density': '27075'}, {'statistic_yyy': '106', 'site_id': '新北市五股區', 'people_total': '84919', 'area': '34.8632', 'population_density': '2436'}, {'statistic_yyy': '106', 'site_id': '新北市泰山區', 'people_total': '78911', 'area': '19.1603', 'population_density': '4118'}, {'statistic_yyy': '106', 'site_id': '新北市林口區', 'people_total': '106101', 'area': '54.1519', 'population_density': '1959'}, {'statistic_yyy': '106', 'site_id': '新北市深坑區', 'people_total': '23660', 'area': '20.5787', 'population_density': '1150'}, {'statistic_yyy': '106', 'site_id': '新北市石碇區', 'people_total': '7683', 'area': '144.3498', 'population_density': '53'}, {'statistic_yyy': '106', 'site_id': '新北市坪林區', 'people_total': '6528', 'area': '170.835', 'population_density': '38'}, {'statistic_yyy': '106', 'site_id': '新北市三芝區', 'people_total': '23200', 'area': '65.9909', 'population_density': '352'}, {'statistic_yyy': '106', 'site_id': '新北市石門區', 'people_total': '12286', 'area': '51.2645', 'population_density': '240'}, {'statistic_yyy': '106', 'site_id': '新北市八里區', 'people_total': '38493', 'area': '39.4933', 'population_density': '975'}, {'statistic_yyy': '106', 'site_id': '新北市平溪區', 'people_total': '4719', 'area': '71.3382', 'population_density': '66'}, {'statistic_yyy': '106', 'site_id': '新北市雙溪區', 'people_total': '8939', 'area': '146.2484', 'population_density': '61'}, {'statistic_yyy': '106', 'site_id': '新北市貢寮區', 'people_total': '12552', 'area': '99.9734', 'population_density': '126'}, {'statistic_yyy': '106', 'site_id': '新北市金山區', 'people_total': '22015', 'area': '49.2132', 'population_density': '447'}, {'statistic_yyy': '106', 'site_id': '新北市萬里區', 'people_total': '22296', 'area': '63.3766', 'population_density': '352'}, {'statistic_yyy': '106', 'site_id': '新北市烏來區', 'people_total': '6320', 'area': '321.1306', 'population_density': '20'}], '台北各鄉鎮市區人口密度': [{'statistic_yyy': '106', 'site_id': '臺北市松山區', 'people_total': '206988', 'area': '9.2878', 'population_density': '22286'}, {'statistic_yyy': '106', 'site_id': '臺北市信義區', 'people_total': '225753', 'area': '11.2077', 'population_density': '20143'}, {'statistic_yyy': '106', 'site_id': '臺北市大安區', 'people_total': '309969', 'area': '11.3614', 'population_density': '27283'}, {'statistic_yyy': '106', 'site_id': '臺北市中山區', 'people_total': '230710', 'area': '13.6821', 'population_density': '16862'}, {'statistic_yyy': '106', 'site_id': '臺北市中正區', 'people_total': '159608', 'area': '7.6071', 'population_density': '20981'}, {'statistic_yyy': '106', 'site_id': '臺北市大同區', 'people_total': '129278', 'area': '5.6815', 'population_density': '22754'}, {'statistic_yyy': '106', 'site_id': '臺北市萬華區', 'people_total': '191850', 'area': '8.8522', 'population_density': '21673'}, {'statistic_yyy': '106', 'site_id': '臺北市文山區', 'people_total': '274424', 'area': '31.509', 'population_density': '8709'}, {'statistic_yyy': '106', 'site_id': '臺北市南港區', 'people_total': '122155', 'area': '21.8424', 'population_density': '5593'}, {'statistic_yyy': '106', 'site_id': '臺北市內湖區', 'people_total': '287771', 'area': '31.5787', 'population_density': '9113'}, {'statistic_yyy': '106', 'site_id': '臺北市士林區', 'people_total': '288295', 'area': '62.3682', 'population_density': '4622'}, {'statistic_yyy': '106', 'site_id': '臺北市北投區', 'people_total': '256456', 'area': '56.8216', 'population_density': '4513'}]})])"
      ]
     },
     "execution_count": 3,
     "metadata": {},
     "output_type": "execute_result"
    }
   ],
   "source": [
    "#內容顯示\n",
    "Data.items()"
   ]
  },
  {
   "cell_type": "code",
   "execution_count": 4,
   "id": "4e9434b6",
   "metadata": {},
   "outputs": [
    {
     "data": {
      "text/plain": [
       "{'新北各鄉鎮市區人口密度': [{'statistic_yyy': '106',\n",
       "   'site_id': '新北市板橋區',\n",
       "   'people_total': '551480',\n",
       "   'area': '23.1373',\n",
       "   'population_density': '23835'},\n",
       "  {'statistic_yyy': '106',\n",
       "   'site_id': '新北市三重區',\n",
       "   'people_total': '387484',\n",
       "   'area': '16.317',\n",
       "   'population_density': '23747'},\n",
       "  {'statistic_yyy': '106',\n",
       "   'site_id': '新北市中和區',\n",
       "   'people_total': '413590',\n",
       "   'area': '20.144',\n",
       "   'population_density': '20532'},\n",
       "  {'statistic_yyy': '106',\n",
       "   'site_id': '新北市永和區',\n",
       "   'people_total': '222585',\n",
       "   'area': '5.7138',\n",
       "   'population_density': '38956'},\n",
       "  {'statistic_yyy': '106',\n",
       "   'site_id': '新北市新莊區',\n",
       "   'people_total': '416524',\n",
       "   'area': '19.7383',\n",
       "   'population_density': '21102'},\n",
       "  {'statistic_yyy': '106',\n",
       "   'site_id': '新北市新店區',\n",
       "   'people_total': '302089',\n",
       "   'area': '120.2255',\n",
       "   'population_density': '2513'},\n",
       "  {'statistic_yyy': '106',\n",
       "   'site_id': '新北市樹林區',\n",
       "   'people_total': '184149',\n",
       "   'area': '33.1288',\n",
       "   'population_density': '5559'},\n",
       "  {'statistic_yyy': '106',\n",
       "   'site_id': '新北市鶯歌區',\n",
       "   'people_total': '86593',\n",
       "   'area': '21.1248',\n",
       "   'population_density': '4099'},\n",
       "  {'statistic_yyy': '106',\n",
       "   'site_id': '新北市三峽區',\n",
       "   'people_total': '114926',\n",
       "   'area': '191.4508',\n",
       "   'population_density': '600'},\n",
       "  {'statistic_yyy': '106',\n",
       "   'site_id': '新北市淡水區',\n",
       "   'people_total': '169597',\n",
       "   'area': '70.6565',\n",
       "   'population_density': '2400'},\n",
       "  {'statistic_yyy': '106',\n",
       "   'site_id': '新北市汐止區',\n",
       "   'people_total': '199321',\n",
       "   'area': '71.2354',\n",
       "   'population_density': '2798'},\n",
       "  {'statistic_yyy': '106',\n",
       "   'site_id': '新北市瑞芳區',\n",
       "   'people_total': '40353',\n",
       "   'area': '70.7336',\n",
       "   'population_density': '570'},\n",
       "  {'statistic_yyy': '106',\n",
       "   'site_id': '新北市土城區',\n",
       "   'people_total': '238067',\n",
       "   'area': '29.5578',\n",
       "   'population_density': '8054'},\n",
       "  {'statistic_yyy': '106',\n",
       "   'site_id': '新北市蘆洲區',\n",
       "   'people_total': '201309',\n",
       "   'area': '7.4351',\n",
       "   'population_density': '27075'},\n",
       "  {'statistic_yyy': '106',\n",
       "   'site_id': '新北市五股區',\n",
       "   'people_total': '84919',\n",
       "   'area': '34.8632',\n",
       "   'population_density': '2436'},\n",
       "  {'statistic_yyy': '106',\n",
       "   'site_id': '新北市泰山區',\n",
       "   'people_total': '78911',\n",
       "   'area': '19.1603',\n",
       "   'population_density': '4118'},\n",
       "  {'statistic_yyy': '106',\n",
       "   'site_id': '新北市林口區',\n",
       "   'people_total': '106101',\n",
       "   'area': '54.1519',\n",
       "   'population_density': '1959'},\n",
       "  {'statistic_yyy': '106',\n",
       "   'site_id': '新北市深坑區',\n",
       "   'people_total': '23660',\n",
       "   'area': '20.5787',\n",
       "   'population_density': '1150'},\n",
       "  {'statistic_yyy': '106',\n",
       "   'site_id': '新北市石碇區',\n",
       "   'people_total': '7683',\n",
       "   'area': '144.3498',\n",
       "   'population_density': '53'},\n",
       "  {'statistic_yyy': '106',\n",
       "   'site_id': '新北市坪林區',\n",
       "   'people_total': '6528',\n",
       "   'area': '170.835',\n",
       "   'population_density': '38'},\n",
       "  {'statistic_yyy': '106',\n",
       "   'site_id': '新北市三芝區',\n",
       "   'people_total': '23200',\n",
       "   'area': '65.9909',\n",
       "   'population_density': '352'},\n",
       "  {'statistic_yyy': '106',\n",
       "   'site_id': '新北市石門區',\n",
       "   'people_total': '12286',\n",
       "   'area': '51.2645',\n",
       "   'population_density': '240'},\n",
       "  {'statistic_yyy': '106',\n",
       "   'site_id': '新北市八里區',\n",
       "   'people_total': '38493',\n",
       "   'area': '39.4933',\n",
       "   'population_density': '975'},\n",
       "  {'statistic_yyy': '106',\n",
       "   'site_id': '新北市平溪區',\n",
       "   'people_total': '4719',\n",
       "   'area': '71.3382',\n",
       "   'population_density': '66'},\n",
       "  {'statistic_yyy': '106',\n",
       "   'site_id': '新北市雙溪區',\n",
       "   'people_total': '8939',\n",
       "   'area': '146.2484',\n",
       "   'population_density': '61'},\n",
       "  {'statistic_yyy': '106',\n",
       "   'site_id': '新北市貢寮區',\n",
       "   'people_total': '12552',\n",
       "   'area': '99.9734',\n",
       "   'population_density': '126'},\n",
       "  {'statistic_yyy': '106',\n",
       "   'site_id': '新北市金山區',\n",
       "   'people_total': '22015',\n",
       "   'area': '49.2132',\n",
       "   'population_density': '447'},\n",
       "  {'statistic_yyy': '106',\n",
       "   'site_id': '新北市萬里區',\n",
       "   'people_total': '22296',\n",
       "   'area': '63.3766',\n",
       "   'population_density': '352'},\n",
       "  {'statistic_yyy': '106',\n",
       "   'site_id': '新北市烏來區',\n",
       "   'people_total': '6320',\n",
       "   'area': '321.1306',\n",
       "   'population_density': '20'}],\n",
       " '台北各鄉鎮市區人口密度': [{'statistic_yyy': '106',\n",
       "   'site_id': '臺北市松山區',\n",
       "   'people_total': '206988',\n",
       "   'area': '9.2878',\n",
       "   'population_density': '22286'},\n",
       "  {'statistic_yyy': '106',\n",
       "   'site_id': '臺北市信義區',\n",
       "   'people_total': '225753',\n",
       "   'area': '11.2077',\n",
       "   'population_density': '20143'},\n",
       "  {'statistic_yyy': '106',\n",
       "   'site_id': '臺北市大安區',\n",
       "   'people_total': '309969',\n",
       "   'area': '11.3614',\n",
       "   'population_density': '27283'},\n",
       "  {'statistic_yyy': '106',\n",
       "   'site_id': '臺北市中山區',\n",
       "   'people_total': '230710',\n",
       "   'area': '13.6821',\n",
       "   'population_density': '16862'},\n",
       "  {'statistic_yyy': '106',\n",
       "   'site_id': '臺北市中正區',\n",
       "   'people_total': '159608',\n",
       "   'area': '7.6071',\n",
       "   'population_density': '20981'},\n",
       "  {'statistic_yyy': '106',\n",
       "   'site_id': '臺北市大同區',\n",
       "   'people_total': '129278',\n",
       "   'area': '5.6815',\n",
       "   'population_density': '22754'},\n",
       "  {'statistic_yyy': '106',\n",
       "   'site_id': '臺北市萬華區',\n",
       "   'people_total': '191850',\n",
       "   'area': '8.8522',\n",
       "   'population_density': '21673'},\n",
       "  {'statistic_yyy': '106',\n",
       "   'site_id': '臺北市文山區',\n",
       "   'people_total': '274424',\n",
       "   'area': '31.509',\n",
       "   'population_density': '8709'},\n",
       "  {'statistic_yyy': '106',\n",
       "   'site_id': '臺北市南港區',\n",
       "   'people_total': '122155',\n",
       "   'area': '21.8424',\n",
       "   'population_density': '5593'},\n",
       "  {'statistic_yyy': '106',\n",
       "   'site_id': '臺北市內湖區',\n",
       "   'people_total': '287771',\n",
       "   'area': '31.5787',\n",
       "   'population_density': '9113'},\n",
       "  {'statistic_yyy': '106',\n",
       "   'site_id': '臺北市士林區',\n",
       "   'people_total': '288295',\n",
       "   'area': '62.3682',\n",
       "   'population_density': '4622'},\n",
       "  {'statistic_yyy': '106',\n",
       "   'site_id': '臺北市北投區',\n",
       "   'people_total': '256456',\n",
       "   'area': '56.8216',\n",
       "   'population_density': '4513'}]}"
      ]
     },
     "execution_count": 4,
     "metadata": {},
     "output_type": "execute_result"
    }
   ],
   "source": [
    "#雙北的資料\n",
    "temp =Data.get('雙北各區')\n",
    "temp"
   ]
  },
  {
   "cell_type": "code",
   "execution_count": 5,
   "id": "49918a3d",
   "metadata": {},
   "outputs": [
    {
     "data": {
      "text/plain": [
       "[{'statistic_yyy': '106',\n",
       "  'site_id': '臺北市松山區',\n",
       "  'people_total': '206988',\n",
       "  'area': '9.2878',\n",
       "  'population_density': '22286'},\n",
       " {'statistic_yyy': '106',\n",
       "  'site_id': '臺北市信義區',\n",
       "  'people_total': '225753',\n",
       "  'area': '11.2077',\n",
       "  'population_density': '20143'},\n",
       " {'statistic_yyy': '106',\n",
       "  'site_id': '臺北市大安區',\n",
       "  'people_total': '309969',\n",
       "  'area': '11.3614',\n",
       "  'population_density': '27283'},\n",
       " {'statistic_yyy': '106',\n",
       "  'site_id': '臺北市中山區',\n",
       "  'people_total': '230710',\n",
       "  'area': '13.6821',\n",
       "  'population_density': '16862'},\n",
       " {'statistic_yyy': '106',\n",
       "  'site_id': '臺北市中正區',\n",
       "  'people_total': '159608',\n",
       "  'area': '7.6071',\n",
       "  'population_density': '20981'},\n",
       " {'statistic_yyy': '106',\n",
       "  'site_id': '臺北市大同區',\n",
       "  'people_total': '129278',\n",
       "  'area': '5.6815',\n",
       "  'population_density': '22754'},\n",
       " {'statistic_yyy': '106',\n",
       "  'site_id': '臺北市萬華區',\n",
       "  'people_total': '191850',\n",
       "  'area': '8.8522',\n",
       "  'population_density': '21673'},\n",
       " {'statistic_yyy': '106',\n",
       "  'site_id': '臺北市文山區',\n",
       "  'people_total': '274424',\n",
       "  'area': '31.509',\n",
       "  'population_density': '8709'},\n",
       " {'statistic_yyy': '106',\n",
       "  'site_id': '臺北市南港區',\n",
       "  'people_total': '122155',\n",
       "  'area': '21.8424',\n",
       "  'population_density': '5593'},\n",
       " {'statistic_yyy': '106',\n",
       "  'site_id': '臺北市內湖區',\n",
       "  'people_total': '287771',\n",
       "  'area': '31.5787',\n",
       "  'population_density': '9113'},\n",
       " {'statistic_yyy': '106',\n",
       "  'site_id': '臺北市士林區',\n",
       "  'people_total': '288295',\n",
       "  'area': '62.3682',\n",
       "  'population_density': '4622'},\n",
       " {'statistic_yyy': '106',\n",
       "  'site_id': '臺北市北投區',\n",
       "  'people_total': '256456',\n",
       "  'area': '56.8216',\n",
       "  'population_density': '4513'}]"
      ]
     },
     "execution_count": 5,
     "metadata": {},
     "output_type": "execute_result"
    }
   ],
   "source": [
    "#台北的資料\n",
    "temp1 =temp.get('台北各鄉鎮市區人口密度')\n",
    "temp1"
   ]
  },
  {
   "cell_type": "code",
   "execution_count": 6,
   "id": "f610a172",
   "metadata": {},
   "outputs": [
    {
     "name": "stdout",
     "output_type": "stream",
     "text": [
      "台北市想要查詢人口和人口密度的區臺北市內湖區\n"
     ]
    }
   ],
   "source": [
    "#查詢處\n",
    "ask = input(\"台北市想要查詢人口和人口密度的區\")"
   ]
  },
  {
   "cell_type": "code",
   "execution_count": 7,
   "id": "e4d1875e",
   "metadata": {},
   "outputs": [
    {
     "name": "stdout",
     "output_type": "stream",
     "text": [
      "臺北市內湖區 人口數為: 287771 人\n",
      "人口密度為: 9113\n"
     ]
    }
   ],
   "source": [
    "#查詢答案\n",
    "for i in temp1:\n",
    "    if ask == i.get('site_id'):\n",
    "        print(ask, '人口數為:', i.get('people_total'),'人')\n",
    "        print(\"人口密度為:\", i.get('population_density'))"
   ]
  },
  {
   "cell_type": "code",
   "execution_count": 8,
   "id": "c538ab29",
   "metadata": {},
   "outputs": [
    {
     "data": {
      "text/plain": [
       "['206988',\n",
       " '225753',\n",
       " '309969',\n",
       " '230710',\n",
       " '159608',\n",
       " '129278',\n",
       " '191850',\n",
       " '274424',\n",
       " '122155',\n",
       " '287771',\n",
       " '288295',\n",
       " '256456']"
      ]
     },
     "execution_count": 8,
     "metadata": {},
     "output_type": "execute_result"
    }
   ],
   "source": [
    "#人口數\n",
    "allpeople = []\n",
    "for i in temp1:\n",
    "    allpeople.append(i.get('people_total'))\n",
    "allpeople"
   ]
  },
  {
   "cell_type": "code",
   "execution_count": 10,
   "id": "2653abfb",
   "metadata": {},
   "outputs": [
    {
     "data": {
      "text/plain": [
       "[(3, '309969'),\n",
       " (11, '288295'),\n",
       " (10, '287771'),\n",
       " (8, '274424'),\n",
       " (12, '256456'),\n",
       " (4, '230710'),\n",
       " (2, '225753'),\n",
       " (1, '206988'),\n",
       " (7, '191850'),\n",
       " (5, '159608'),\n",
       " (6, '129278'),\n",
       " (9, '122155')]"
      ]
     },
     "execution_count": 10,
     "metadata": {},
     "output_type": "execute_result"
    }
   ],
   "source": [
    "#排序人口數\n",
    "allpeople_enumerate = enumerate(allpeople, start=1)\n",
    "allpeople_enumerate_sorted = sorted(allpeople_enumerate, key = lambda s: s[1], reverse = True) \n",
    "allpeople_enumerate_sorted"
   ]
  },
  {
   "cell_type": "code",
   "execution_count": 11,
   "id": "383bd348",
   "metadata": {},
   "outputs": [
    {
     "name": "stdout",
     "output_type": "stream",
     "text": [
      "臺北市大安區 人口為: 309969 人\n",
      "臺北市士林區 人口為: 288295 人\n",
      "臺北市內湖區 人口為: 287771 人\n",
      "臺北市文山區 人口為: 274424 人\n",
      "臺北市北投區 人口為: 256456 人\n",
      "臺北市中山區 人口為: 230710 人\n",
      "臺北市信義區 人口為: 225753 人\n",
      "臺北市松山區 人口為: 206988 人\n",
      "臺北市萬華區 人口為: 191850 人\n",
      "臺北市中正區 人口為: 159608 人\n",
      "臺北市大同區 人口為: 129278 人\n",
      "臺北市南港區 人口為: 122155 人\n"
     ]
    }
   ],
   "source": [
    "#排序結果加上文字\n",
    "for i in allpeople_enumerate_sorted:\n",
    "    j = i[0]-1\n",
    "    print(temp1[j].get('site_id'), '人口為:', i[1],\"人\")"
   ]
  },
  {
   "cell_type": "code",
   "execution_count": null,
   "id": "616a5d29",
   "metadata": {},
   "outputs": [],
   "source": []
  }
 ],
 "metadata": {
  "kernelspec": {
   "display_name": "Python 3 (ipykernel)",
   "language": "python",
   "name": "python3"
  },
  "language_info": {
   "codemirror_mode": {
    "name": "ipython",
    "version": 3
   },
   "file_extension": ".py",
   "mimetype": "text/x-python",
   "name": "python",
   "nbconvert_exporter": "python",
   "pygments_lexer": "ipython3",
   "version": "3.9.12"
  }
 },
 "nbformat": 4,
 "nbformat_minor": 5
}
