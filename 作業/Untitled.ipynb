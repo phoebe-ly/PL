{
 "cells": [
  {
   "cell_type": "code",
   "execution_count": 1,
   "id": "47e3f32d",
   "metadata": {},
   "outputs": [],
   "source": [
    "import urllib.request as req\n",
    "url=\"http://www.rabbitsos.org/rabbitlist.php?order=oldest\"\n",
    "request=req.Request(url,headers={\"User-Agent\":\"Mozilla/5.0 (Macintosh; Intel Mac OS X 10_15_7) AppleWebKit/537.36 (KHTML, like Gecko) Chrome/107.0.0.0 Safari/537.36\" })\n",
    "with req.urlopen(request) as response:\n",
    "    data =response.read().decode(\"utf-8\")"
   ]
  },
  {
   "cell_type": "code",
   "execution_count": 7,
   "id": "b6281a1b",
   "metadata": {},
   "outputs": [
    {
     "name": "stdout",
     "output_type": "stream",
     "text": [
      "台灣流浪兔保護協會\n",
      "[<img class=\"cardImg\" src=\"Picture/photo/15/1.jpg\"/>, <img class=\"cardImg\" src=\"Picture/photo/16/1.jpg\"/>, <img class=\"cardImg\" src=\"Picture/photo/17/1.jpg\"/>, <img class=\"cardImg\" src=\"Picture/photo/13/1.jpg\"/>, <img class=\"cardImg\" src=\"Picture/photo/10/1.jpg\"/>, <img class=\"cardImg\" src=\"Picture/photo/19/1.jpg\"/>, <img class=\"cardImg\" src=\"Picture/photo/32/1.jpg\"/>, <img class=\"cardImg\" src=\"Picture/photo/146/1.jpg\"/>, <img class=\"cardImg\" src=\"Picture/photo/55/1.jpg\"/>, <img class=\"cardImg\" src=\"Picture/photo/50/1.jpg\"/>, <img class=\"cardImg\" src=\"Picture/photo/23/1.jpg\"/>, <img class=\"cardImg\" src=\"Picture/photo/28/1.jpg\"/>, <img class=\"cardImg\" src=\"Picture/photo/29/1.jpg\"/>, <img class=\"cardImg\" src=\"Picture/photo/33/1.jpg\"/>, <img class=\"cardImg\" src=\"Picture/photo/37/1.jpg\"/>, <img class=\"cardImg\" src=\"Picture/photo/39/1.jpg\"/>, <img class=\"cardImg\" src=\"Picture/photo/42/1.jpg\"/>, <img class=\"cardImg\" src=\"Picture/photo/43/1.jpg\"/>, <img class=\"cardImg\" src=\"Picture/photo/44/1.jpg\"/>, <img class=\"cardImg\" src=\"Picture/photo/48/1.jpg\"/>, <img class=\"cardImg\" src=\"Picture/photo/49/1.jpg\"/>, <img class=\"cardImg\" src=\"Picture/photo/52/1.jpg\"/>, <img class=\"cardImg\" src=\"Picture/photo/54/1.jpg\"/>, <img class=\"cardImg\" src=\"Picture/photo/77/1.jpg\"/>]\n"
     ]
    }
   ],
   "source": [
    "import bs4\n",
    "root=bs4.BeautifulSoup(data,\"html.parser\")\n",
    "print(root.title.string)\n",
    "ct1=root.find_all(\"img\",class_=\"cardImg\")\n",
    "print(ct1)"
   ]
  },
  {
   "cell_type": "code",
   "execution_count": null,
   "id": "1920eb0a",
   "metadata": {},
   "outputs": [],
   "source": []
  },
  {
   "cell_type": "code",
   "execution_count": null,
   "id": "87e11167",
   "metadata": {},
   "outputs": [],
   "source": []
  }
 ],
 "metadata": {
  "kernelspec": {
   "display_name": "Python 3 (ipykernel)",
   "language": "python",
   "name": "python3"
  },
  "language_info": {
   "codemirror_mode": {
    "name": "ipython",
    "version": 3
   },
   "file_extension": ".py",
   "mimetype": "text/x-python",
   "name": "python",
   "nbconvert_exporter": "python",
   "pygments_lexer": "ipython3",
   "version": "3.9.12"
  }
 },
 "nbformat": 4,
 "nbformat_minor": 5
}
