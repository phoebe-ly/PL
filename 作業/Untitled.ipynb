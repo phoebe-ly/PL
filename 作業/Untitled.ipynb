{
 "cells": [
  {
   "cell_type": "code",
   "execution_count": 1,
   "id": "9a2b4203",
   "metadata": {},
   "outputs": [],
   "source": [
    "import urllib.request as req\n",
    "url=\"http://www.rabbitsos.org/rabbitlist.php?order=oldest\"\n",
    "request=req.Request(url,headers={\"User-Agent\":\"Mozilla/5.0 (Macintosh; Intel Mac OS X 10_15_7) AppleWebKit/537.36 (KHTML, like Gecko) Chrome/107.0.0.0 Safari/537.36\" })\n",
    "with req.urlopen(request) as response:\n",
    "    data =response.read().decode(\"utf-8\")"
   ]
  },
  {
   "cell_type": "code",
   "execution_count": 2,
   "id": "a09ed8b4",
   "metadata": {},
   "outputs": [
    {
     "name": "stdout",
     "output_type": "stream",
     "text": [
      "台灣流浪兔保護協會\n"
     ]
    },
    {
     "data": {
      "text/plain": [
       "[<img class=\"cardImg\" src=\"Picture/photo/15/1.jpg\"/>,\n",
       " <img class=\"cardImg\" src=\"Picture/photo/16/1.jpg\"/>,\n",
       " <img class=\"cardImg\" src=\"Picture/photo/17/1.jpg\"/>,\n",
       " <img class=\"cardImg\" src=\"Picture/photo/13/1.jpg\"/>,\n",
       " <img class=\"cardImg\" src=\"Picture/photo/10/1.jpg\"/>,\n",
       " <img class=\"cardImg\" src=\"Picture/photo/19/1.jpg\"/>,\n",
       " <img class=\"cardImg\" src=\"Picture/photo/32/1.jpg\"/>,\n",
       " <img class=\"cardImg\" src=\"Picture/photo/146/1.jpg\"/>,\n",
       " <img class=\"cardImg\" src=\"Picture/photo/55/1.jpg\"/>,\n",
       " <img class=\"cardImg\" src=\"Picture/photo/50/1.jpg\"/>,\n",
       " <img class=\"cardImg\" src=\"Picture/photo/23/1.jpg\"/>,\n",
       " <img class=\"cardImg\" src=\"Picture/photo/28/1.jpg\"/>,\n",
       " <img class=\"cardImg\" src=\"Picture/photo/29/1.jpg\"/>,\n",
       " <img class=\"cardImg\" src=\"Picture/photo/33/1.jpg\"/>,\n",
       " <img class=\"cardImg\" src=\"Picture/photo/37/1.jpg\"/>,\n",
       " <img class=\"cardImg\" src=\"Picture/photo/39/1.jpg\"/>,\n",
       " <img class=\"cardImg\" src=\"Picture/photo/42/1.jpg\"/>,\n",
       " <img class=\"cardImg\" src=\"Picture/photo/43/1.jpg\"/>,\n",
       " <img class=\"cardImg\" src=\"Picture/photo/44/1.jpg\"/>,\n",
       " <img class=\"cardImg\" src=\"Picture/photo/48/1.jpg\"/>,\n",
       " <img class=\"cardImg\" src=\"Picture/photo/49/1.jpg\"/>,\n",
       " <img class=\"cardImg\" src=\"Picture/photo/52/1.jpg\"/>,\n",
       " <img class=\"cardImg\" src=\"Picture/photo/54/1.jpg\"/>,\n",
       " <img class=\"cardImg\" src=\"Picture/photo/77/1.jpg\"/>]"
      ]
     },
     "execution_count": 2,
     "metadata": {},
     "output_type": "execute_result"
    }
   ],
   "source": [
    "import bs4\n",
    "root=bs4.BeautifulSoup(data,\"html.parser\")\n",
    "print(root.title.string)\n",
    "ct1=root.find_all(\"div\",class_=\"responsiveImg\")\n",
    "\n",
    "p1 = []\n",
    "for item in ct1:\n",
    "    picture1 = item.find('img')\n",
    "    p1.append(picture1)\n",
    "p1"
   ]
  },
  {
   "cell_type": "code",
   "execution_count": 3,
   "id": "99c2b6cf",
   "metadata": {},
   "outputs": [
    {
     "ename": "AttributeError",
     "evalue": "'NoneType' object has no attribute 'text'",
     "output_type": "error",
     "traceback": [
      "\u001b[1;31m---------------------------------------------------------------------------\u001b[0m",
      "\u001b[1;31mAttributeError\u001b[0m                            Traceback (most recent call last)",
      "Input \u001b[1;32mIn [3]\u001b[0m, in \u001b[0;36m<cell line: 6>\u001b[1;34m()\u001b[0m\n\u001b[0;32m      5\u001b[0m l1 \u001b[38;5;241m=\u001b[39m {\u001b[38;5;124m\"\u001b[39m\u001b[38;5;124m名字\u001b[39m\u001b[38;5;124m\"\u001b[39m:[],\u001b[38;5;124m\"\u001b[39m\u001b[38;5;124m簡介\u001b[39m\u001b[38;5;124m\"\u001b[39m:[]}\n\u001b[0;32m      6\u001b[0m \u001b[38;5;28;01mfor\u001b[39;00m item \u001b[38;5;129;01min\u001b[39;00m ct1:\n\u001b[1;32m----> 7\u001b[0m     ct2 \u001b[38;5;241m=\u001b[39m \u001b[43mitem\u001b[49m\u001b[38;5;241;43m.\u001b[39;49m\u001b[43mfind\u001b[49m\u001b[43m(\u001b[49m\u001b[38;5;124;43m\"\u001b[39;49m\u001b[38;5;124;43mdiv\u001b[39;49m\u001b[38;5;124;43m\"\u001b[39;49m\u001b[43m,\u001b[49m\u001b[43mclass_\u001b[49m\u001b[38;5;241;43m=\u001b[39;49m\u001b[38;5;124;43m\"\u001b[39;49m\u001b[38;5;124;43mct1\u001b[39;49m\u001b[38;5;124;43m\"\u001b[39;49m\u001b[43m)\u001b[49m\u001b[38;5;241;43m.\u001b[39;49m\u001b[43mtext\u001b[49m\u001b[38;5;241m.\u001b[39mstrip()\n\u001b[0;32m      8\u001b[0m     ct3 \u001b[38;5;241m=\u001b[39m item\u001b[38;5;241m.\u001b[39mfind(\u001b[38;5;124m\"\u001b[39m\u001b[38;5;124mdiv\u001b[39m\u001b[38;5;124m\"\u001b[39m, class_\u001b[38;5;241m=\u001b[39m\u001b[38;5;124m\"\u001b[39m\u001b[38;5;124mct2 flex-container\u001b[39m\u001b[38;5;124m\"\u001b[39m)\u001b[38;5;241m.\u001b[39mtext\u001b[38;5;241m.\u001b[39mstrip()\n\u001b[0;32m      9\u001b[0m     l1\u001b[38;5;241m.\u001b[39mget(\u001b[38;5;124m'\u001b[39m\u001b[38;5;124m名字\u001b[39m\u001b[38;5;124m'\u001b[39m)\u001b[38;5;241m.\u001b[39mappend([ct2])\n",
      "\u001b[1;31mAttributeError\u001b[0m: 'NoneType' object has no attribute 'text'"
     ]
    }
   ],
   "source": [
    "from bs4 import BeautifulSoup\n",
    "import requests\n",
    "import json\n",
    "import pandas as pd\n",
    "l1 = {\"名字\":[],\"簡介\":[]}\n",
    "for item in ct1:\n",
    "    ct2 = item.find(\"div\",class_=\"ct1\").text.strip()\n",
    "    ct3 = item.find(\"div\", class_=\"ct2 flex-container\").text.strip()\n",
    "    l1.get('名字').append([ct2])\n",
    "    l1.get('簡介').append([ct3])\n",
    "df1 = pd.DataFrame(l1)\n",
    "df1"
   ]
  },
  {
   "cell_type": "code",
   "execution_count": null,
   "id": "13c31c36",
   "metadata": {},
   "outputs": [],
   "source": []
  }
 ],
 "metadata": {
  "kernelspec": {
   "display_name": "Python 3 (ipykernel)",
   "language": "python",
   "name": "python3"
  },
  "language_info": {
   "codemirror_mode": {
    "name": "ipython",
    "version": 3
   },
   "file_extension": ".py",
   "mimetype": "text/x-python",
   "name": "python",
   "nbconvert_exporter": "python",
   "pygments_lexer": "ipython3",
   "version": "3.9.12"
  }
 },
 "nbformat": 4,
 "nbformat_minor": 5
}
