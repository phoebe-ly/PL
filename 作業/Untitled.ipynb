{
 "cells": [
  {
   "cell_type": "code",
   "execution_count": 27,
   "id": "0ebc2057",
   "metadata": {},
   "outputs": [],
   "source": [
    "from bs4 import BeautifulSoup\n",
    "import requests\n",
    "import json\n",
    "import pandas as pd\n",
    "url = \"http://www.meetpets.org.tw/pets/cat\"\n",
    "headers={\n",
    "\"user-agent\":\"Mozilla/5.0 (Windows NT 10.0; Win64; x64) AppleWebKit/537.36 (KHTML, like Gecko) Chrome/107.0.0.0 Safari/537.36\"\n",
    "}\n",
    "res = requests.get(url,headers = headers)"
   ]
  },
  {
   "cell_type": "code",
   "execution_count": 28,
   "id": "d1242036",
   "metadata": {},
   "outputs": [
    {
     "data": {
      "text/plain": [
       "[<img alt=\"66C05618-EB17-4215-9C03-4270AB296E26.jpeg\" class=\"imagecache imagecache-pet_promo_100x75\" src=\"http://www.meetpets.org.tw/files_meetpets/imagecache/pet_promo_100x75/66C05618-EB17-4215-9C03-4270AB296E26.jpeg\" title=\"\"/>,\n",
       " <img alt=\"2C229FCD-1310-40E6-A758-59BD363DF03F.jpeg\" class=\"imagecache imagecache-pet_promo_100x75\" src=\"http://www.meetpets.org.tw/files_meetpets/imagecache/pet_promo_100x75/2C229FCD-1310-40E6-A758-59BD363DF03F.jpeg\" title=\"\"/>,\n",
       " <img alt=\"317765605_2557391691089164_7167860160514319010_n.jpg\" class=\"imagecache imagecache-pet_promo_100x75\" src=\"http://www.meetpets.org.tw/files_meetpets/imagecache/pet_promo_100x75/317765605_2557391691089164_7167860160514319010_n.jpg\" title=\"\"/>,\n",
       " <img alt=\"316089421_10225094566569404_4547106794202503613_n.jpg\" class=\"imagecache imagecache-pet_promo_100x75\" src=\"http://www.meetpets.org.tw/files_meetpets/imagecache/pet_promo_100x75/316089421_10225094566569404_4547106794202503613_n.jpg\" title=\"萌萌滴\"/>,\n",
       " <img alt=\"D099546D-EE3B-413D-82E5-6C6BCCAD284D.jpeg\" class=\"imagecache imagecache-pet_promo_100x75\" src=\"http://www.meetpets.org.tw/files_meetpets/imagecache/pet_promo_100x75/D099546D-EE3B-413D-82E5-6C6BCCAD284D.jpeg\" title=\"\"/>,\n",
       " <img alt=\"318022564_2553925091435824_1960376358914461249_n.jpg\" class=\"imagecache imagecache-pet_promo_100x75\" src=\"http://www.meetpets.org.tw/files_meetpets/imagecache/pet_promo_100x75/318022564_2553925091435824_1960376358914461249_n.jpg\" title=\"\"/>,\n",
       " <img alt=\"S__68288520.jpg\" class=\"imagecache imagecache-pet_promo_100x75\" src=\"http://www.meetpets.org.tw/files_meetpets/imagecache/pet_promo_100x75/S__68288520.jpg\" title=\"\"/>,\n",
       " <img alt=\"LINE_ALBUM_2022121_221201_1.jpg\" class=\"imagecache imagecache-pet_promo_100x75\" src=\"http://www.meetpets.org.tw/files_meetpets/imagecache/pet_promo_100x75/LINE_ALBUM_2022121_221201_1.jpg\" title=\"\"/>,\n",
       " <img alt=\"C83571B5-AFB5-4D61-B13F-22BFE3936950.jpeg\" class=\"imagecache imagecache-pet_promo_100x75\" src=\"http://www.meetpets.org.tw/files_meetpets/imagecache/pet_promo_100x75/C83571B5-AFB5-4D61-B13F-22BFE3936950.jpeg\" title=\"\"/>,\n",
       " <img alt=\"194714.jpg\" class=\"imagecache imagecache-pet_promo_100x75\" src=\"http://www.meetpets.org.tw/files_meetpets/imagecache/pet_promo_100x75/194714.jpg\" title=\"\"/>,\n",
       " <img alt=\"194710.jpg\" class=\"imagecache imagecache-pet_promo_100x75\" src=\"http://www.meetpets.org.tw/files_meetpets/imagecache/pet_promo_100x75/194710.jpg\" title=\"\"/>,\n",
       " <img alt=\"194704.jpg\" class=\"imagecache imagecache-pet_promo_100x75\" src=\"http://www.meetpets.org.tw/files_meetpets/imagecache/pet_promo_100x75/194704.jpg\" title=\"\"/>,\n",
       " <img alt=\"S__515334155.jpg\" class=\"imagecache imagecache-pet_promo_100x75\" src=\"http://www.meetpets.org.tw/files_meetpets/imagecache/pet_promo_100x75/S__515334155.jpg\" title=\"\"/>,\n",
       " <img alt=\"S__516612107.jpg\" class=\"imagecache imagecache-pet_promo_100x75\" src=\"http://www.meetpets.org.tw/files_meetpets/imagecache/pet_promo_100x75/S__516612107.jpg\" title=\"\"/>,\n",
       " <img alt=\"2D41C996-478C-4FD6-9BED-9BAE64E7EF55.jpeg\" class=\"imagecache imagecache-pet_promo_100x75\" src=\"http://www.meetpets.org.tw/files_meetpets/imagecache/pet_promo_100x75/2D41C996-478C-4FD6-9BED-9BAE64E7EF55.jpeg\" title=\"\"/>,\n",
       " <img alt=\"F09B093E-4AB6-44DC-9D52-439AA2415D43.jpg\" class=\"imagecache imagecache-pet_promo_100x75\" src=\"http://www.meetpets.org.tw/files_meetpets/imagecache/pet_promo_100x75/F09B093E-4AB6-44DC-9D52-439AA2415D43.jpg\" title=\"\"/>,\n",
       " <img alt=\"BBBE8F64-808F-496E-89C0-106577CB47EE.jpeg\" class=\"imagecache imagecache-pet_promo_100x75\" src=\"http://www.meetpets.org.tw/files_meetpets/imagecache/pet_promo_100x75/BBBE8F64-808F-496E-89C0-106577CB47EE.jpeg\" title=\"活潑的孩子\"/>,\n",
       " <img alt=\"2A536CF2-746E-4875-8E70-0758D01A342C.jpeg\" class=\"imagecache imagecache-pet_promo_100x75\" src=\"http://www.meetpets.org.tw/files_meetpets/imagecache/pet_promo_100x75/2A536CF2-746E-4875-8E70-0758D01A342C.jpeg\" title=\"\"/>,\n",
       " <img alt=\"1669270820894_mr1669271183958.jpg\" class=\"imagecache imagecache-pet_promo_100x75\" src=\"http://www.meetpets.org.tw/files_meetpets/imagecache/pet_promo_100x75/1669270820894_mr1669271183958.jpg\" title=\"\"/>,\n",
       " <img alt=\"S__8962074.jpg\" class=\"imagecache imagecache-pet_promo_100x75\" src=\"http://www.meetpets.org.tw/files_meetpets/imagecache/pet_promo_100x75/S__8962074.jpg\" title=\"\"/>,\n",
       " <img alt=\"FB_IMG_1669185073414.jpg\" class=\"imagecache imagecache-pet_promo_100x75\" src=\"http://www.meetpets.org.tw/files_meetpets/imagecache/pet_promo_100x75/FB_IMG_1669185073414.jpg\" title=\"\"/>,\n",
       " <img alt=\"FB_IMG_1670228501581.jpg\" class=\"imagecache imagecache-pet_promo_100x75\" src=\"http://www.meetpets.org.tw/files_meetpets/imagecache/pet_promo_100x75/FB_IMG_1670228501581.jpg\" title=\"\"/>,\n",
       " <img alt=\"1669121832748_mr1669122056270.jpg\" class=\"imagecache imagecache-pet_promo_100x75\" src=\"http://www.meetpets.org.tw/files_meetpets/imagecache/pet_promo_100x75/1669121832748_mr1669122056270.jpg\" title=\"\"/>,\n",
       " <img alt=\"316103920_10160169769806168_5032997665832037320_n.jpg\" class=\"imagecache imagecache-pet_promo_100x75\" src=\"http://www.meetpets.org.tw/files_meetpets/imagecache/pet_promo_100x75/316103920_10160169769806168_5032997665832037320_n.jpg\" title=\"\"/>,\n",
       " <img alt=\"4ADD7032-04DF-44AB-A94A-79882B573503.jpg\" class=\"imagecache imagecache-pet_promo_100x75\" src=\"http://www.meetpets.org.tw/files_meetpets/imagecache/pet_promo_100x75/4ADD7032-04DF-44AB-A94A-79882B573503.jpg\" title=\"疑似混到美短的貝果 花紋很有特色\"/>,\n",
       " <img alt=\"S__392101895.jpg\" class=\"imagecache imagecache-pet_promo_100x75\" src=\"http://www.meetpets.org.tw/files_meetpets/imagecache/pet_promo_100x75/S__392101895.jpg\" title=\"\"/>,\n",
       " <img alt=\"20221121_183402_mr1669096737604.jpg\" class=\"imagecache imagecache-pet_promo_100x75\" src=\"http://www.meetpets.org.tw/files_meetpets/imagecache/pet_promo_100x75/20221121_183402_mr1669096737604.jpg\" title=\"\"/>,\n",
       " <img alt=\"6D5C2762-3A46-4151-A170-08DBF81B4394.jpeg\" class=\"imagecache imagecache-pet_promo_100x75\" src=\"http://www.meetpets.org.tw/files_meetpets/imagecache/pet_promo_100x75/6D5C2762-3A46-4151-A170-08DBF81B4394.jpeg\" title=\"\"/>,\n",
       " <img alt=\"received_468472578688894.jpeg\" class=\"imagecache imagecache-pet_promo_100x75\" src=\"http://www.meetpets.org.tw/files_meetpets/imagecache/pet_promo_100x75/received_468472578688894.jpeg\" title=\"\"/>,\n",
       " <img alt=\"received_845020253475858.jpeg\" class=\"imagecache imagecache-pet_promo_100x75\" src=\"http://www.meetpets.org.tw/files_meetpets/imagecache/pet_promo_100x75/received_845020253475858.jpeg\" title=\"\"/>,\n",
       " <img alt=\"FB_IMG_1670223566421.jpg\" class=\"imagecache imagecache-pet_promo_100x75\" src=\"http://www.meetpets.org.tw/files_meetpets/imagecache/pet_promo_100x75/FB_IMG_1670223566421.jpg\" title=\"\"/>,\n",
       " <img alt=\"1668678656147_mr1668678964405.jpg\" class=\"imagecache imagecache-pet_promo_100x75\" src=\"http://www.meetpets.org.tw/files_meetpets/imagecache/pet_promo_100x75/1668678656147_mr1668678964405.jpg\" title=\"\"/>,\n",
       " <img alt=\"FB_IMG_1668582640994.jpg\" class=\"imagecache imagecache-pet_promo_100x75\" src=\"http://www.meetpets.org.tw/files_meetpets/imagecache/pet_promo_100x75/FB_IMG_1668582640994.jpg\" title=\"\"/>,\n",
       " <img alt=\"1668515529715_mr1668518180133.jpg\" class=\"imagecache imagecache-pet_promo_100x75\" src=\"http://www.meetpets.org.tw/files_meetpets/imagecache/pet_promo_100x75/1668515529715_mr1668518180133.jpg\" title=\"\"/>,\n",
       " <img alt=\"FB_IMG_1669288640008.jpg\" class=\"imagecache imagecache-pet_promo_100x75\" src=\"http://www.meetpets.org.tw/files_meetpets/imagecache/pet_promo_100x75/FB_IMG_1669288640008.jpg\" title=\"\"/>,\n",
       " <img alt=\"1668429201886_mr1668429429147.jpg\" class=\"imagecache imagecache-pet_promo_100x75\" src=\"http://www.meetpets.org.tw/files_meetpets/imagecache/pet_promo_100x75/1668429201886_mr1668429429147.jpg\" title=\"\"/>,\n",
       " <img alt=\"309386557_10160293403989074_857095078433875455_n.jpg\" class=\"imagecache imagecache-pet_promo_100x75\" src=\"http://www.meetpets.org.tw/files_meetpets/imagecache/pet_promo_100x75/309386557_10160293403989074_857095078433875455_n_0.jpg\" title=\"\"/>,\n",
       " <img alt=\"20221107_151720.jpg\" class=\"imagecache imagecache-pet_promo_100x75\" src=\"http://www.meetpets.org.tw/files_meetpets/imagecache/pet_promo_100x75/20221107_151720.jpg\" title=\"\"/>,\n",
       " <img alt=\"FB_IMG_1667981466214.jpg\" class=\"imagecache imagecache-pet_promo_100x75\" src=\"http://www.meetpets.org.tw/files_meetpets/imagecache/pet_promo_100x75/FB_IMG_1667981466214.jpg\" title=\"\"/>,\n",
       " <img alt=\"S__26001411.jpg\" class=\"imagecache imagecache-pet_promo_100x75\" src=\"http://www.meetpets.org.tw/files_meetpets/imagecache/pet_promo_100x75/S__26001411.jpg\" title=\"\"/>,\n",
       " <img alt=\"F53F089B-D4AD-4376-B005-83F214A54FA5.jpeg\" class=\"imagecache imagecache-pet_promo_100x75\" src=\"http://www.meetpets.org.tw/files_meetpets/imagecache/pet_promo_100x75/F53F089B-D4AD-4376-B005-83F214A54FA5.jpeg\" title=\"\"/>,\n",
       " <img alt=\"6F1D392B-692D-46DE-9A4C-F5FF7DF2E2F3.jpeg\" class=\"imagecache imagecache-pet_promo_100x75\" src=\"http://www.meetpets.org.tw/files_meetpets/imagecache/pet_promo_100x75/6F1D392B-692D-46DE-9A4C-F5FF7DF2E2F3.jpeg\" title=\"\"/>,\n",
       " <img alt=\"FB_IMG_1667374418509.jpg\" class=\"imagecache imagecache-pet_promo_100x75\" src=\"http://www.meetpets.org.tw/files_meetpets/imagecache/pet_promo_100x75/FB_IMG_1667374418509.jpg\" title=\"\"/>,\n",
       " <img alt=\"22002C7C-5A71-42B8-BA4D-AF56202A3716.jpeg\" class=\"imagecache imagecache-pet_promo_100x75\" src=\"http://www.meetpets.org.tw/files_meetpets/imagecache/pet_promo_100x75/22002C7C-5A71-42B8-BA4D-AF56202A3716.jpeg\" title=\"\"/>,\n",
       " <img alt=\"21B28AFC-2BA7-4B82-9D48-DC601CFB794C.jpeg\" class=\"imagecache imagecache-pet_promo_100x75\" src=\"http://www.meetpets.org.tw/files_meetpets/imagecache/pet_promo_100x75/21B28AFC-2BA7-4B82-9D48-DC601CFB794C.jpeg\" title=\"\"/>,\n",
       " <img alt=\"DBEC21EE-57C5-44C8-B70E-FBA6147AE435.jpeg\" class=\"imagecache imagecache-pet_promo_100x75\" src=\"http://www.meetpets.org.tw/files_meetpets/imagecache/pet_promo_100x75/DBEC21EE-57C5-44C8-B70E-FBA6147AE435.jpeg\" title=\"\"/>]"
      ]
     },
     "execution_count": 28,
     "metadata": {},
     "output_type": "execute_result"
    }
   ],
   "source": [
    "#列出我要的資訊\n",
    "soup = BeautifulSoup((requests.get(url)).text, \"lxml\")\n",
    "itemslist = soup.find_all('div', 'view-item view-item-pets-cat')\n",
    "\n",
    "p1 = []\n",
    "for item in itemslist:\n",
    "    picture = item.find('div', 'field-item').img\n",
    "    p1.append(picture)    \n",
    "p1"
   ]
  },
  {
   "cell_type": "code",
   "execution_count": 40,
   "id": "f8e7e675",
   "metadata": {},
   "outputs": [],
   "source": [
    "import tkinter as tk\n",
    "import webbrowser\n",
    "root = tk.Tk()\n",
    "root.title('my window')\n",
    "root.geometry('200x150')\n",
    "\n",
    "imgBtn = tk.PhotoImage(p1[1].src) \n",
    "tk.Button(image=imgBtn).pack()\n",
    "\n",
    "def button_event():\n",
    "    webbrowser.open(\"http://www.meetpets.org.tw/pets/cat\")\n",
    "\n",
    "mybutton = tk.Button(root,text='了解更多', command=button_event)\n",
    "mybutton.pack()\n",
    "\n",
    "root.mainloop()"
   ]
  },
  {
   "cell_type": "code",
   "execution_count": null,
   "id": "d7768e4a",
   "metadata": {},
   "outputs": [],
   "source": []
  },
  {
   "cell_type": "code",
   "execution_count": null,
   "id": "ee92d651",
   "metadata": {},
   "outputs": [],
   "source": []
  }
 ],
 "metadata": {
  "kernelspec": {
   "display_name": "Python 3 (ipykernel)",
   "language": "python",
   "name": "python3"
  },
  "language_info": {
   "codemirror_mode": {
    "name": "ipython",
    "version": 3
   },
   "file_extension": ".py",
   "mimetype": "text/x-python",
   "name": "python",
   "nbconvert_exporter": "python",
   "pygments_lexer": "ipython3",
   "version": "3.9.12"
  }
 },
 "nbformat": 4,
 "nbformat_minor": 5
}
