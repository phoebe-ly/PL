{
 "cells": [
  {
   "cell_type": "code",
   "execution_count": 1,
   "id": "8ff9014b",
   "metadata": {},
   "outputs": [
    {
     "name": "stdout",
     "output_type": "stream",
     "text": [
      "被告須賠償 17981 元\n",
      "原告須賠償 7706 元\n"
     ]
    }
   ],
   "source": [
    "total_money=25688\n",
    "d_money=total_money*0.7\n",
    "p_money=total_money*0.3\n",
    "print(\"被告須賠償\",int(d_money),\"元\")\n",
    "print(\"原告須賠償\",int(p_money),\"元\")"
   ]
  },
  {
   "cell_type": "code",
   "execution_count": null,
   "id": "a7c573cd",
   "metadata": {},
   "outputs": [],
   "source": []
  }
 ],
 "metadata": {
  "kernelspec": {
   "display_name": "Python 3 (ipykernel)",
   "language": "python",
   "name": "python3"
  },
  "language_info": {
   "codemirror_mode": {
    "name": "ipython",
    "version": 3
   },
   "file_extension": ".py",
   "mimetype": "text/x-python",
   "name": "python",
   "nbconvert_exporter": "python",
   "pygments_lexer": "ipython3",
   "version": "3.9.12"
  }
 },
 "nbformat": 4,
 "nbformat_minor": 5
}
