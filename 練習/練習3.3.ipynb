{
 "cells": [
  {
   "cell_type": "code",
   "execution_count": 45,
   "id": "348d7353",
   "metadata": {},
   "outputs": [
    {
     "name": "stdout",
     "output_type": "stream",
     "text": [
      "請輸入案件:123\n",
      "請填入有效訊息\n"
     ]
    }
   ],
   "source": [
    "event=input(\"請輸入案件:\")\n",
    "if event==\"被告闖紅燈\":\n",
    "    print(\"被告賠100%\")\n",
    "elif event==\"原告闖紅燈\":\n",
    "        print(\"原告多被告少\")\n",
    "elif event==\"被告原告皆闖紅燈\": \n",
    "            print(\"原告50%被告50%\")\n",
    "else:\n",
    "            print(\"請填入有效訊息\")\n",
    "    \n"
   ]
  },
  {
   "cell_type": "code",
   "execution_count": null,
   "id": "21fda2fa",
   "metadata": {},
   "outputs": [],
   "source": []
  },
  {
   "cell_type": "code",
   "execution_count": null,
   "id": "0fb04987",
   "metadata": {},
   "outputs": [],
   "source": []
  }
 ],
 "metadata": {
  "kernelspec": {
   "display_name": "Python 3 (ipykernel)",
   "language": "python",
   "name": "python3"
  },
  "language_info": {
   "codemirror_mode": {
    "name": "ipython",
    "version": 3
   },
   "file_extension": ".py",
   "mimetype": "text/x-python",
   "name": "python",
   "nbconvert_exporter": "python",
   "pygments_lexer": "ipython3",
   "version": "3.9.12"
  }
 },
 "nbformat": 4,
 "nbformat_minor": 5
}
