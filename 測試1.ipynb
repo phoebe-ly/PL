{
 "cells": [
  {
   "cell_type": "code",
   "execution_count": 3,
   "id": "edc1bfe5",
   "metadata": {
    "scrolled": true
   },
   "outputs": [
    {
     "name": "stdout",
     "output_type": "stream",
     "text": [
      "<class 'int'>\n",
      "<class 'float'>\n",
      "總共要繳納的金額 115612 元\n"
     ]
    }
   ],
   "source": [
    "money=63852\n",
    "year=4\n",
    "rate=0.16\n",
    "total_money=money*(1+rate)**year\n",
    "print(type(money))\n",
    "print(type(rate))\n",
    "print(\"總共要繳納的金額\",int(total_money),\"元\")"
   ]
  },
  {
   "cell_type": "code",
   "execution_count": null,
   "id": "86a38e39",
   "metadata": {},
   "outputs": [],
   "source": []
  }
 ],
 "metadata": {
  "kernelspec": {
   "display_name": "Python 3 (ipykernel)",
   "language": "python",
   "name": "python3"
  },
  "language_info": {
   "codemirror_mode": {
    "name": "ipython",
    "version": 3
   },
   "file_extension": ".py",
   "mimetype": "text/x-python",
   "name": "python",
   "nbconvert_exporter": "python",
   "pygments_lexer": "ipython3",
   "version": "3.9.12"
  }
 },
 "nbformat": 4,
 "nbformat_minor": 5
}
