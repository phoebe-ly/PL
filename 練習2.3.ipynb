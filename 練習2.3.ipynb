{
 "cells": [
  {
   "cell_type": "code",
   "execution_count": 5,
   "id": "ca429045",
   "metadata": {},
   "outputs": [
    {
     "name": "stdout",
     "output_type": "stream",
     "text": [
      "償還了 12608 元\n"
     ]
    }
   ],
   "source": [
    "money=11805\n",
    "day=59\n",
    "rate=0.0005\n",
    "month1=150\n",
    "month2=300\n",
    "d_money=month1+month2\n",
    "total_money=money*(1+rate)**day+d_money\n",
    "print(\"償還了\",int(total_money),\"元\")"
   ]
  },
  {
   "cell_type": "code",
   "execution_count": null,
   "id": "5110bf7f",
   "metadata": {},
   "outputs": [],
   "source": []
  },
  {
   "cell_type": "code",
   "execution_count": null,
   "id": "b346e042",
   "metadata": {},
   "outputs": [],
   "source": []
  }
 ],
 "metadata": {
  "kernelspec": {
   "display_name": "Python 3 (ipykernel)",
   "language": "python",
   "name": "python3"
  },
  "language_info": {
   "codemirror_mode": {
    "name": "ipython",
    "version": 3
   },
   "file_extension": ".py",
   "mimetype": "text/x-python",
   "name": "python",
   "nbconvert_exporter": "python",
   "pygments_lexer": "ipython3",
   "version": "3.9.12"
  }
 },
 "nbformat": 4,
 "nbformat_minor": 5
}
